{
  "cells": [
    {
      "cell_type": "markdown",
      "metadata": {
        "id": "view-in-github",
        "colab_type": "text"
      },
      "source": [
        "<a href=\"https://colab.research.google.com/github/Aniket-76/Family-Tree/blob/main/Aniket_Ingle__FamilyTree.ipynb\" target=\"_parent\"><img src=\"https://colab.research.google.com/assets/colab-badge.svg\" alt=\"Open In Colab\"/></a>"
      ]
    },
    {
      "cell_type": "markdown",
      "metadata": {
        "id": "oWEDGeT9lmys"
      },
      "source": [
        "This program parses family tree with python logic programming .\n",
        "sympy is a Python package that enables symbolic computation.\n",
        "Kanren provides pattern matching and unification on user defined types."
      ]
    },
    {
      "cell_type": "code",
      "execution_count": null,
      "metadata": {
        "id": "u3GgYV-_m27H",
        "outputId": "959d2af2-0d30-43d3-c7a2-18e65213c47d",
        "colab": {
          "base_uri": "https://localhost:8080/"
        }
      },
      "outputs": [
        {
          "output_type": "stream",
          "name": "stdout",
          "text": [
            "Package                       Version                Location                               Installer\n",
            "----------------------------- ---------------------- -------------------------------------- ---------\n",
            "absl-py                       1.3.0                  /usr/local/lib/python3.7/dist-packages pip\n",
            "aeppl                         0.0.33                 /usr/local/lib/python3.7/dist-packages pip\n",
            "aesara                        2.7.9                  /usr/local/lib/python3.7/dist-packages pip\n",
            "aiohttp                       3.8.3                  /usr/local/lib/python3.7/dist-packages pip\n",
            "aiosignal                     1.3.1                  /usr/local/lib/python3.7/dist-packages pip\n",
            "alabaster                     0.7.12                 /usr/local/lib/python3.7/dist-packages pip\n",
            "albumentations                1.2.1                  /usr/local/lib/python3.7/dist-packages pip\n",
            "altair                        4.2.0                  /usr/local/lib/python3.7/dist-packages pip\n",
            "appdirs                       1.4.4                  /usr/local/lib/python3.7/dist-packages pip\n",
            "arviz                         0.12.1                 /usr/local/lib/python3.7/dist-packages pip\n",
            "astor                         0.8.1                  /usr/local/lib/python3.7/dist-packages pip\n",
            "astropy                       4.3.1                  /usr/local/lib/python3.7/dist-packages pip\n",
            "astunparse                    1.6.3                  /usr/local/lib/python3.7/dist-packages pip\n",
            "async-timeout                 4.0.2                  /usr/local/lib/python3.7/dist-packages pip\n",
            "asynctest                     0.13.0                 /usr/local/lib/python3.7/dist-packages pip\n",
            "atari-py                      0.2.9                  /usr/local/lib/python3.7/dist-packages pip\n",
            "atomicwrites                  1.4.1                  /usr/local/lib/python3.7/dist-packages pip\n",
            "attrs                         22.1.0                 /usr/local/lib/python3.7/dist-packages pip\n",
            "audioread                     3.0.0                  /usr/local/lib/python3.7/dist-packages pip\n",
            "autograd                      1.5                    /usr/local/lib/python3.7/dist-packages pip\n",
            "Babel                         2.11.0                 /usr/local/lib/python3.7/dist-packages pip\n",
            "backcall                      0.2.0                  /usr/local/lib/python3.7/dist-packages pip\n",
            "beautifulsoup4                4.6.3                  /usr/local/lib/python3.7/dist-packages pip\n",
            "bleach                        5.0.1                  /usr/local/lib/python3.7/dist-packages pip\n",
            "blis                          0.7.9                  /usr/local/lib/python3.7/dist-packages pip\n",
            "bokeh                         2.3.3                  /usr/local/lib/python3.7/dist-packages pip\n",
            "branca                        0.6.0                  /usr/local/lib/python3.7/dist-packages pip\n",
            "bs4                           0.0.1                  /usr/local/lib/python3.7/dist-packages pip\n",
            "CacheControl                  0.12.11                /usr/local/lib/python3.7/dist-packages pip\n",
            "cached-property               1.5.2                  /usr/local/lib/python3.7/dist-packages pip\n",
            "cachetools                    5.2.0                  /usr/local/lib/python3.7/dist-packages pip\n",
            "catalogue                     2.0.8                  /usr/local/lib/python3.7/dist-packages pip\n",
            "certifi                       2022.9.24              /usr/local/lib/python3.7/dist-packages pip\n",
            "cffi                          1.15.1                 /usr/local/lib/python3.7/dist-packages pip\n",
            "cftime                        1.6.2                  /usr/local/lib/python3.7/dist-packages pip\n",
            "chardet                       3.0.4                  /usr/local/lib/python3.7/dist-packages pip\n",
            "charset-normalizer            2.1.1                  /usr/local/lib/python3.7/dist-packages pip\n",
            "click                         7.1.2                  /usr/local/lib/python3.7/dist-packages pip\n",
            "clikit                        0.6.2                  /usr/local/lib/python3.7/dist-packages pip\n",
            "cloudpickle                   1.5.0                  /usr/local/lib/python3.7/dist-packages pip\n",
            "cmake                         3.22.6                 /usr/local/lib/python3.7/dist-packages pip\n",
            "cmdstanpy                     1.0.8                  /usr/local/lib/python3.7/dist-packages pip\n",
            "colorcet                      3.0.1                  /usr/local/lib/python3.7/dist-packages pip\n",
            "colorlover                    0.3.0                  /usr/local/lib/python3.7/dist-packages pip\n",
            "community                     1.0.0b1                /usr/local/lib/python3.7/dist-packages pip\n",
            "confection                    0.0.3                  /usr/local/lib/python3.7/dist-packages pip\n",
            "cons                          0.4.5                  /usr/local/lib/python3.7/dist-packages pip\n",
            "contextlib2                   0.5.5                  /usr/local/lib/python3.7/dist-packages pip\n",
            "convertdate                   2.4.0                  /usr/local/lib/python3.7/dist-packages pip\n",
            "crashtest                     0.3.1                  /usr/local/lib/python3.7/dist-packages pip\n",
            "crcmod                        1.7                    /usr/local/lib/python3.7/dist-packages pip\n",
            "cufflinks                     0.17.3                 /usr/local/lib/python3.7/dist-packages pip\n",
            "cvxopt                        1.3.0                  /usr/local/lib/python3.7/dist-packages pip\n",
            "cvxpy                         1.2.2                  /usr/local/lib/python3.7/dist-packages pip\n",
            "cycler                        0.11.0                 /usr/local/lib/python3.7/dist-packages pip\n",
            "cymem                         2.0.7                  /usr/local/lib/python3.7/dist-packages pip\n",
            "Cython                        0.29.32                /usr/local/lib/python3.7/dist-packages pip\n",
            "daft                          0.0.4                  /usr/local/lib/python3.7/dist-packages pip\n",
            "dask                          2022.2.0               /usr/local/lib/python3.7/dist-packages pip\n",
            "datascience                   0.17.5                 /usr/local/lib/python3.7/dist-packages pip\n",
            "db-dtypes                     1.0.4                  /usr/local/lib/python3.7/dist-packages pip\n",
            "debugpy                       1.0.0                  /usr/local/lib/python3.7/dist-packages pip\n",
            "decorator                     4.4.2                  /usr/local/lib/python3.7/dist-packages pip\n",
            "defusedxml                    0.7.1                  /usr/local/lib/python3.7/dist-packages pip\n",
            "descartes                     1.1.0                  /usr/local/lib/python3.7/dist-packages pip\n",
            "dill                          0.3.6                  /usr/local/lib/python3.7/dist-packages pip\n",
            "distributed                   2022.2.0               /usr/local/lib/python3.7/dist-packages pip\n",
            "dlib                          19.24.0                /usr/local/lib/python3.7/dist-packages pip\n",
            "dm-tree                       0.1.7                  /usr/local/lib/python3.7/dist-packages pip\n",
            "dnspython                     2.2.1                  /usr/local/lib/python3.7/dist-packages pip\n",
            "docutils                      0.17.1                 /usr/local/lib/python3.7/dist-packages pip\n",
            "dopamine-rl                   1.0.5                  /usr/local/lib/python3.7/dist-packages pip\n",
            "earthengine-api               0.1.332                /usr/local/lib/python3.7/dist-packages pip\n",
            "easydict                      1.10                   /usr/local/lib/python3.7/dist-packages pip\n",
            "ecos                          2.0.10                 /usr/local/lib/python3.7/dist-packages pip\n",
            "editdistance                  0.5.3                  /usr/local/lib/python3.7/dist-packages pip\n",
            "en-core-web-sm                3.4.1                  /usr/local/lib/python3.7/dist-packages pip\n",
            "entrypoints                   0.4                    /usr/local/lib/python3.7/dist-packages pip\n",
            "ephem                         4.1.3                  /usr/local/lib/python3.7/dist-packages pip\n",
            "et-xmlfile                    1.1.0                  /usr/local/lib/python3.7/dist-packages pip\n",
            "etils                         0.9.0                  /usr/local/lib/python3.7/dist-packages pip\n",
            "etuples                       0.3.8                  /usr/local/lib/python3.7/dist-packages pip\n",
            "fa2                           0.3.5                  /usr/local/lib/python3.7/dist-packages pip\n",
            "fastai                        2.7.10                 /usr/local/lib/python3.7/dist-packages pip\n",
            "fastcore                      1.5.27                 /usr/local/lib/python3.7/dist-packages pip\n",
            "fastdownload                  0.0.7                  /usr/local/lib/python3.7/dist-packages pip\n",
            "fastdtw                       0.3.4                  /usr/local/lib/python3.7/dist-packages pip\n",
            "fastjsonschema                2.16.2                 /usr/local/lib/python3.7/dist-packages pip\n",
            "fastprogress                  1.0.3                  /usr/local/lib/python3.7/dist-packages pip\n",
            "fastrlock                     0.8.1                  /usr/local/lib/python3.7/dist-packages pip\n",
            "feather-format                0.4.1                  /usr/local/lib/python3.7/dist-packages pip\n",
            "filelock                      3.8.0                  /usr/local/lib/python3.7/dist-packages pip\n",
            "firebase-admin                5.3.0                  /usr/local/lib/python3.7/dist-packages pip\n",
            "fix-yahoo-finance             0.0.22                 /usr/local/lib/python3.7/dist-packages pip\n",
            "Flask                         1.1.4                  /usr/local/lib/python3.7/dist-packages pip\n",
            "flatbuffers                   1.12                   /usr/local/lib/python3.7/dist-packages pip\n",
            "folium                        0.12.1.post1           /usr/local/lib/python3.7/dist-packages pip\n",
            "frozenlist                    1.3.3                  /usr/local/lib/python3.7/dist-packages pip\n",
            "fsspec                        2022.11.0              /usr/local/lib/python3.7/dist-packages pip\n",
            "future                        0.16.0                 /usr/local/lib/python3.7/dist-packages pip\n",
            "gast                          0.4.0                  /usr/local/lib/python3.7/dist-packages pip\n",
            "GDAL                          2.2.2                  /usr/local/lib/python3.7/dist-packages pip\n",
            "gdown                         4.4.0                  /usr/local/lib/python3.7/dist-packages pip\n",
            "gensim                        3.6.0                  /usr/local/lib/python3.7/dist-packages pip\n",
            "geographiclib                 1.52                   /usr/local/lib/python3.7/dist-packages pip\n",
            "geopy                         1.17.0                 /usr/local/lib/python3.7/dist-packages pip\n",
            "gin-config                    0.5.0                  /usr/local/lib/python3.7/dist-packages pip\n",
            "glob2                         0.7                    /usr/local/lib/python3.7/dist-packages pip\n",
            "google                        2.0.3                  /usr/local/lib/python3.7/dist-packages pip\n",
            "google-api-core               2.8.2                  /usr/local/lib/python3.7/dist-packages pip\n",
            "google-api-python-client      1.12.11                /usr/local/lib/python3.7/dist-packages pip\n",
            "google-auth                   2.14.1                 /usr/local/lib/python3.7/dist-packages pip\n",
            "google-auth-httplib2          0.0.4                  /usr/local/lib/python3.7/dist-packages pip\n",
            "google-auth-oauthlib          0.4.6                  /usr/local/lib/python3.7/dist-packages pip\n",
            "google-cloud-bigquery         3.3.6                  /usr/local/lib/python3.7/dist-packages pip\n",
            "google-cloud-bigquery-storage 2.16.2                 /usr/local/lib/python3.7/dist-packages pip\n",
            "google-cloud-core             2.3.2                  /usr/local/lib/python3.7/dist-packages pip\n",
            "google-cloud-datastore        2.9.0                  /usr/local/lib/python3.7/dist-packages pip\n",
            "google-cloud-firestore        2.7.2                  /usr/local/lib/python3.7/dist-packages pip\n",
            "google-cloud-language         2.6.1                  /usr/local/lib/python3.7/dist-packages pip\n",
            "google-cloud-storage          2.5.0                  /usr/local/lib/python3.7/dist-packages pip\n",
            "google-cloud-translate        3.8.4                  /usr/local/lib/python3.7/dist-packages pip\n",
            "google-colab                  1.0.0                  /usr/local/lib/python3.7/dist-packages pip\n",
            "google-crc32c                 1.5.0                  /usr/local/lib/python3.7/dist-packages pip\n",
            "google-pasta                  0.2.0                  /usr/local/lib/python3.7/dist-packages pip\n",
            "google-resumable-media        2.4.0                  /usr/local/lib/python3.7/dist-packages pip\n",
            "googleapis-common-protos      1.57.0                 /usr/local/lib/python3.7/dist-packages pip\n",
            "googledrivedownloader         0.4                    /usr/local/lib/python3.7/dist-packages pip\n",
            "graphviz                      0.10.1                 /usr/local/lib/python3.7/dist-packages pip\n",
            "greenlet                      2.0.1                  /usr/local/lib/python3.7/dist-packages pip\n",
            "grpcio                        1.50.0                 /usr/local/lib/python3.7/dist-packages pip\n",
            "grpcio-status                 1.48.2                 /usr/local/lib/python3.7/dist-packages pip\n",
            "gspread                       3.4.2                  /usr/local/lib/python3.7/dist-packages pip\n",
            "gspread-dataframe             3.0.8                  /usr/local/lib/python3.7/dist-packages pip\n",
            "gym                           0.25.2                 /usr/local/lib/python3.7/dist-packages pip\n",
            "gym-notices                   0.0.8                  /usr/local/lib/python3.7/dist-packages pip\n",
            "h5py                          3.1.0                  /usr/local/lib/python3.7/dist-packages pip\n",
            "HeapDict                      1.0.1                  /usr/local/lib/python3.7/dist-packages pip\n",
            "hijri-converter               2.2.4                  /usr/local/lib/python3.7/dist-packages pip\n",
            "holidays                      0.17                   /usr/local/lib/python3.7/dist-packages pip\n",
            "holoviews                     1.14.9                 /usr/local/lib/python3.7/dist-packages pip\n",
            "html5lib                      1.0.1                  /usr/local/lib/python3.7/dist-packages pip\n",
            "httpimport                    0.5.18                 /usr/local/lib/python3.7/dist-packages pip\n",
            "httplib2                      0.17.4                 /usr/local/lib/python3.7/dist-packages pip\n",
            "httpstan                      4.6.1                  /usr/local/lib/python3.7/dist-packages pip\n",
            "humanize                      0.5.1                  /usr/local/lib/python3.7/dist-packages pip\n",
            "hyperopt                      0.1.2                  /usr/local/lib/python3.7/dist-packages pip\n",
            "idna                          2.10                   /usr/local/lib/python3.7/dist-packages pip\n",
            "imageio                       2.9.0                  /usr/local/lib/python3.7/dist-packages pip\n",
            "imagesize                     1.4.1                  /usr/local/lib/python3.7/dist-packages pip\n",
            "imbalanced-learn              0.8.1                  /usr/local/lib/python3.7/dist-packages pip\n",
            "imblearn                      0.0                    /usr/local/lib/python3.7/dist-packages pip\n",
            "imgaug                        0.4.0                  /usr/local/lib/python3.7/dist-packages pip\n",
            "importlib-metadata            4.13.0                 /usr/local/lib/python3.7/dist-packages pip\n",
            "importlib-resources           5.10.0                 /usr/local/lib/python3.7/dist-packages pip\n",
            "imutils                       0.5.4                  /usr/local/lib/python3.7/dist-packages pip\n",
            "inflect                       2.1.0                  /usr/local/lib/python3.7/dist-packages pip\n",
            "intel-openmp                  2022.2.1               /usr/local/lib/python3.7/dist-packages pip\n",
            "intervaltree                  2.1.0                  /usr/local/lib/python3.7/dist-packages pip\n",
            "ipykernel                     5.3.4                  /usr/local/lib/python3.7/dist-packages pip\n",
            "ipython                       7.9.0                  /usr/local/lib/python3.7/dist-packages pip\n",
            "ipython-genutils              0.2.0                  /usr/local/lib/python3.7/dist-packages pip\n",
            "ipython-sql                   0.3.9                  /usr/local/lib/python3.7/dist-packages pip\n",
            "ipywidgets                    7.7.1                  /usr/local/lib/python3.7/dist-packages pip\n",
            "itsdangerous                  1.1.0                  /usr/local/lib/python3.7/dist-packages pip\n",
            "jax                           0.3.25                 /usr/local/lib/python3.7/dist-packages pip\n",
            "jaxlib                        0.3.25+cuda11.cudnn805 /usr/local/lib/python3.7/dist-packages pip\n",
            "jieba                         0.42.1                 /usr/local/lib/python3.7/dist-packages pip\n",
            "Jinja2                        2.11.3                 /usr/local/lib/python3.7/dist-packages pip\n",
            "joblib                        1.2.0                  /usr/local/lib/python3.7/dist-packages pip\n",
            "jpeg4py                       0.1.4                  /usr/local/lib/python3.7/dist-packages pip\n",
            "jsonschema                    4.3.3                  /usr/local/lib/python3.7/dist-packages pip\n",
            "jupyter-client                6.1.12                 /usr/local/lib/python3.7/dist-packages pip\n",
            "jupyter-console               6.1.0                  /usr/local/lib/python3.7/dist-packages pip\n",
            "jupyter-core                  4.11.2                 /usr/local/lib/python3.7/dist-packages pip\n",
            "jupyterlab-widgets            3.0.3                  /usr/local/lib/python3.7/dist-packages pip\n",
            "kaggle                        1.5.12                 /usr/local/lib/python3.7/dist-packages pip\n",
            "kapre                         0.3.7                  /usr/local/lib/python3.7/dist-packages pip\n",
            "keras                         2.9.0                  /usr/local/lib/python3.7/dist-packages pip\n",
            "Keras-Preprocessing           1.1.2                  /usr/local/lib/python3.7/dist-packages pip\n",
            "keras-vis                     0.4.1                  /usr/local/lib/python3.7/dist-packages pip\n",
            "kiwisolver                    1.4.4                  /usr/local/lib/python3.7/dist-packages pip\n",
            "korean-lunar-calendar         0.3.1                  /usr/local/lib/python3.7/dist-packages pip\n",
            "langcodes                     3.3.0                  /usr/local/lib/python3.7/dist-packages pip\n",
            "libclang                      14.0.6                 /usr/local/lib/python3.7/dist-packages pip\n",
            "librosa                       0.8.1                  /usr/local/lib/python3.7/dist-packages pip\n",
            "lightgbm                      2.2.3                  /usr/local/lib/python3.7/dist-packages pip\n",
            "llvmlite                      0.39.1                 /usr/local/lib/python3.7/dist-packages pip\n",
            "lmdb                          0.99                   /usr/local/lib/python3.7/dist-packages pip\n",
            "locket                        1.0.0                  /usr/local/lib/python3.7/dist-packages pip\n",
            "logical-unification           0.4.5                  /usr/local/lib/python3.7/dist-packages pip\n",
            "LunarCalendar                 0.0.9                  /usr/local/lib/python3.7/dist-packages pip\n",
            "lxml                          4.9.1                  /usr/local/lib/python3.7/dist-packages pip\n",
            "Markdown                      3.4.1                  /usr/local/lib/python3.7/dist-packages pip\n",
            "MarkupSafe                    2.0.1                  /usr/local/lib/python3.7/dist-packages pip\n",
            "marshmallow                   3.19.0                 /usr/local/lib/python3.7/dist-packages pip\n",
            "matplotlib                    3.2.2                  /usr/local/lib/python3.7/dist-packages pip\n",
            "matplotlib-venn               0.11.7                 /usr/local/lib/python3.7/dist-packages pip\n",
            "miniKanren                    1.0.3                  /usr/local/lib/python3.7/dist-packages pip\n",
            "missingno                     0.5.1                  /usr/local/lib/python3.7/dist-packages pip\n",
            "mistune                       0.8.4                  /usr/local/lib/python3.7/dist-packages pip\n",
            "mizani                        0.7.3                  /usr/local/lib/python3.7/dist-packages pip\n",
            "mkl                           2019.0                 /usr/local/lib/python3.7/dist-packages pip\n",
            "mlxtend                       0.14.0                 /usr/local/lib/python3.7/dist-packages pip\n",
            "more-itertools                9.0.0                  /usr/local/lib/python3.7/dist-packages pip\n",
            "moviepy                       0.2.3.5                /usr/local/lib/python3.7/dist-packages pip\n",
            "mpmath                        1.2.1                  /usr/local/lib/python3.7/dist-packages pip\n",
            "msgpack                       1.0.4                  /usr/local/lib/python3.7/dist-packages pip\n",
            "multidict                     6.0.2                  /usr/local/lib/python3.7/dist-packages pip\n",
            "multipledispatch              0.6.0                  /usr/local/lib/python3.7/dist-packages pip\n",
            "multitasking                  0.0.11                 /usr/local/lib/python3.7/dist-packages pip\n",
            "murmurhash                    1.0.9                  /usr/local/lib/python3.7/dist-packages pip\n",
            "music21                       5.5.0                  /usr/local/lib/python3.7/dist-packages pip\n",
            "natsort                       5.5.0                  /usr/local/lib/python3.7/dist-packages pip\n",
            "nbconvert                     5.6.1                  /usr/local/lib/python3.7/dist-packages pip\n",
            "nbformat                      5.7.0                  /usr/local/lib/python3.7/dist-packages pip\n",
            "netCDF4                       1.6.2                  /usr/local/lib/python3.7/dist-packages pip\n",
            "networkx                      2.6.3                  /usr/local/lib/python3.7/dist-packages pip\n",
            "nibabel                       3.0.2                  /usr/local/lib/python3.7/dist-packages pip\n",
            "nltk                          3.7                    /usr/local/lib/python3.7/dist-packages pip\n",
            "notebook                      5.7.16                 /usr/local/lib/python3.7/dist-packages pip\n",
            "numba                         0.56.4                 /usr/local/lib/python3.7/dist-packages pip\n",
            "numexpr                       2.8.4                  /usr/local/lib/python3.7/dist-packages pip\n",
            "numpy                         1.21.6                 /usr/local/lib/python3.7/dist-packages pip\n",
            "oauth2client                  4.1.3                  /usr/local/lib/python3.7/dist-packages pip\n",
            "oauthlib                      3.2.2                  /usr/local/lib/python3.7/dist-packages pip\n",
            "okgrade                       0.4.3                  /usr/local/lib/python3.7/dist-packages pip\n",
            "opencv-contrib-python         4.6.0.66               /usr/local/lib/python3.7/dist-packages pip\n",
            "opencv-python                 4.6.0.66               /usr/local/lib/python3.7/dist-packages pip\n",
            "opencv-python-headless        4.6.0.66               /usr/local/lib/python3.7/dist-packages pip\n",
            "openpyxl                      3.0.10                 /usr/local/lib/python3.7/dist-packages pip\n",
            "opt-einsum                    3.3.0                  /usr/local/lib/python3.7/dist-packages pip\n",
            "osqp                          0.6.2.post0            /usr/local/lib/python3.7/dist-packages pip\n",
            "packaging                     21.3                   /usr/local/lib/python3.7/dist-packages pip\n",
            "palettable                    3.3.0                  /usr/local/lib/python3.7/dist-packages pip\n",
            "pandas                        1.3.5                  /usr/local/lib/python3.7/dist-packages pip\n",
            "pandas-datareader             0.9.0                  /usr/local/lib/python3.7/dist-packages pip\n",
            "pandas-gbq                    0.17.9                 /usr/local/lib/python3.7/dist-packages pip\n",
            "pandas-profiling              1.4.1                  /usr/local/lib/python3.7/dist-packages pip\n",
            "pandocfilters                 1.5.0                  /usr/local/lib/python3.7/dist-packages pip\n",
            "panel                         0.12.1                 /usr/local/lib/python3.7/dist-packages pip\n",
            "param                         1.12.2                 /usr/local/lib/python3.7/dist-packages pip\n",
            "parso                         0.8.3                  /usr/local/lib/python3.7/dist-packages pip\n",
            "partd                         1.3.0                  /usr/local/lib/python3.7/dist-packages pip\n",
            "pastel                        0.2.1                  /usr/local/lib/python3.7/dist-packages pip\n",
            "pathlib                       1.0.1                  /usr/local/lib/python3.7/dist-packages pip\n",
            "pathy                         0.8.1                  /usr/local/lib/python3.7/dist-packages pip\n",
            "patsy                         0.5.3                  /usr/local/lib/python3.7/dist-packages pip\n",
            "pep517                        0.13.0                 /usr/local/lib/python3.7/dist-packages pip\n",
            "pexpect                       4.8.0                  /usr/local/lib/python3.7/dist-packages pip\n",
            "pickleshare                   0.7.5                  /usr/local/lib/python3.7/dist-packages pip\n",
            "Pillow                        7.1.2                  /usr/local/lib/python3.7/dist-packages pip\n",
            "pip                           21.1.3                 /usr/local/lib/python3.7/dist-packages pip\n",
            "pip-tools                     6.2.0                  /usr/local/lib/python3.7/dist-packages pip\n",
            "plotly                        5.5.0                  /usr/local/lib/python3.7/dist-packages pip\n",
            "plotnine                      0.8.0                  /usr/local/lib/python3.7/dist-packages pip\n",
            "pluggy                        0.7.1                  /usr/local/lib/python3.7/dist-packages pip\n",
            "pooch                         1.6.0                  /usr/local/lib/python3.7/dist-packages pip\n",
            "portpicker                    1.3.9                  /usr/local/lib/python3.7/dist-packages pip\n",
            "prefetch-generator            1.0.1                  /usr/local/lib/python3.7/dist-packages pip\n",
            "preshed                       3.0.8                  /usr/local/lib/python3.7/dist-packages pip\n",
            "prettytable                   3.5.0                  /usr/local/lib/python3.7/dist-packages pip\n",
            "progressbar2                  3.38.0                 /usr/local/lib/python3.7/dist-packages pip\n",
            "prometheus-client             0.15.0                 /usr/local/lib/python3.7/dist-packages pip\n",
            "promise                       2.3                    /usr/local/lib/python3.7/dist-packages pip\n",
            "prompt-toolkit                2.0.10                 /usr/local/lib/python3.7/dist-packages pip\n",
            "prophet                       1.1.1                  /usr/local/lib/python3.7/dist-packages pip\n",
            "proto-plus                    1.22.1                 /usr/local/lib/python3.7/dist-packages pip\n",
            "protobuf                      3.19.6                 /usr/local/lib/python3.7/dist-packages pip\n",
            "psutil                        5.4.8                  /usr/local/lib/python3.7/dist-packages pip\n",
            "psycopg2                      2.9.5                  /usr/local/lib/python3.7/dist-packages pip\n",
            "ptyprocess                    0.7.0                  /usr/local/lib/python3.7/dist-packages pip\n",
            "py                            1.11.0                 /usr/local/lib/python3.7/dist-packages pip\n",
            "pyarrow                       9.0.0                  /usr/local/lib/python3.7/dist-packages pip\n",
            "pyasn1                        0.4.8                  /usr/local/lib/python3.7/dist-packages pip\n",
            "pyasn1-modules                0.2.8                  /usr/local/lib/python3.7/dist-packages pip\n",
            "pycocotools                   2.0.6                  /usr/local/lib/python3.7/dist-packages pip\n",
            "pycparser                     2.21                   /usr/local/lib/python3.7/dist-packages pip\n",
            "pyct                          0.4.8                  /usr/local/lib/python3.7/dist-packages pip\n",
            "pydantic                      1.10.2                 /usr/local/lib/python3.7/dist-packages pip\n",
            "pydata-google-auth            1.4.0                  /usr/local/lib/python3.7/dist-packages pip\n",
            "pydot                         1.3.0                  /usr/local/lib/python3.7/dist-packages pip\n",
            "pydot-ng                      2.0.0                  /usr/local/lib/python3.7/dist-packages pip\n",
            "pydotplus                     2.0.2                  /usr/local/lib/python3.7/dist-packages pip\n",
            "PyDrive                       1.3.1                  /usr/local/lib/python3.7/dist-packages pip\n",
            "pyemd                         0.5.1                  /usr/local/lib/python3.7/dist-packages pip\n",
            "pyerfa                        2.0.0.1                /usr/local/lib/python3.7/dist-packages pip\n",
            "Pygments                      2.6.1                  /usr/local/lib/python3.7/dist-packages pip\n",
            "pygobject                     3.26.1                 /usr/lib/python3/dist-packages\n",
            "pylev                         1.4.0                  /usr/local/lib/python3.7/dist-packages pip\n",
            "pymc                          4.1.4                  /usr/local/lib/python3.7/dist-packages pip\n",
            "PyMeeus                       0.5.11                 /usr/local/lib/python3.7/dist-packages pip\n",
            "pymongo                       4.3.3                  /usr/local/lib/python3.7/dist-packages pip\n",
            "pymystem3                     0.2.0                  /usr/local/lib/python3.7/dist-packages pip\n",
            "PyOpenGL                      3.1.6                  /usr/local/lib/python3.7/dist-packages pip\n",
            "pyparsing                     3.0.9                  /usr/local/lib/python3.7/dist-packages pip\n",
            "pyrsistent                    0.19.2                 /usr/local/lib/python3.7/dist-packages pip\n",
            "pysimdjson                    3.2.0                  /usr/local/lib/python3.7/dist-packages pip\n",
            "pysndfile                     1.3.8                  /usr/local/lib/python3.7/dist-packages pip\n",
            "PySocks                       1.7.1                  /usr/local/lib/python3.7/dist-packages pip\n",
            "pystan                        3.3.0                  /usr/local/lib/python3.7/dist-packages pip\n",
            "pytest                        3.6.4                  /usr/local/lib/python3.7/dist-packages pip\n",
            "python-apt                    0.0.0                  /usr/local/lib/python3.7/dist-packages\n",
            "python-dateutil               2.8.2                  /usr/local/lib/python3.7/dist-packages pip\n",
            "python-louvain                0.16                   /usr/local/lib/python3.7/dist-packages pip\n",
            "python-slugify                6.1.2                  /usr/local/lib/python3.7/dist-packages pip\n",
            "python-utils                  3.4.5                  /usr/local/lib/python3.7/dist-packages pip\n",
            "pytz                          2022.6                 /usr/local/lib/python3.7/dist-packages pip\n",
            "pyviz-comms                   2.2.1                  /usr/local/lib/python3.7/dist-packages pip\n",
            "PyWavelets                    1.3.0                  /usr/local/lib/python3.7/dist-packages pip\n",
            "PyYAML                        6.0                    /usr/local/lib/python3.7/dist-packages pip\n",
            "pyzmq                         23.2.1                 /usr/local/lib/python3.7/dist-packages pip\n",
            "qdldl                         0.1.5.post2            /usr/local/lib/python3.7/dist-packages pip\n",
            "qudida                        0.0.4                  /usr/local/lib/python3.7/dist-packages pip\n",
            "regex                         2022.6.2               /usr/local/lib/python3.7/dist-packages pip\n",
            "requests                      2.23.0                 /usr/local/lib/python3.7/dist-packages pip\n",
            "requests-oauthlib             1.3.1                  /usr/local/lib/python3.7/dist-packages pip\n",
            "resampy                       0.4.2                  /usr/local/lib/python3.7/dist-packages pip\n",
            "rpy2                          3.5.5                  /usr/local/lib/python3.7/dist-packages pip\n",
            "rsa                           4.9                    /usr/local/lib/python3.7/dist-packages pip\n",
            "scikit-image                  0.18.3                 /usr/local/lib/python3.7/dist-packages pip\n",
            "scikit-learn                  1.0.2                  /usr/local/lib/python3.7/dist-packages pip\n",
            "scipy                         1.7.3                  /usr/local/lib/python3.7/dist-packages pip\n",
            "screen-resolution-extra       0.0.0                  /usr/lib/python3/dist-packages\n",
            "scs                           3.2.2                  /usr/local/lib/python3.7/dist-packages pip\n",
            "seaborn                       0.11.2                 /usr/local/lib/python3.7/dist-packages pip\n",
            "Send2Trash                    1.8.0                  /usr/local/lib/python3.7/dist-packages pip\n",
            "setuptools                    57.4.0                 /usr/local/lib/python3.7/dist-packages pip\n",
            "setuptools-git                1.2                    /usr/local/lib/python3.7/dist-packages pip\n",
            "Shapely                       1.8.5.post1            /usr/local/lib/python3.7/dist-packages pip\n",
            "six                           1.15.0                 /usr/local/lib/python3.7/dist-packages pip\n",
            "sklearn-pandas                1.8.0                  /usr/local/lib/python3.7/dist-packages pip\n",
            "smart-open                    5.2.1                  /usr/local/lib/python3.7/dist-packages pip\n",
            "snowballstemmer               2.2.0                  /usr/local/lib/python3.7/dist-packages pip\n",
            "sortedcontainers              2.4.0                  /usr/local/lib/python3.7/dist-packages pip\n",
            "soundfile                     0.11.0                 /usr/local/lib/python3.7/dist-packages pip\n",
            "spacy                         3.4.3                  /usr/local/lib/python3.7/dist-packages pip\n",
            "spacy-legacy                  3.0.10                 /usr/local/lib/python3.7/dist-packages pip\n",
            "spacy-loggers                 1.0.3                  /usr/local/lib/python3.7/dist-packages pip\n",
            "Sphinx                        1.8.6                  /usr/local/lib/python3.7/dist-packages pip\n",
            "sphinxcontrib-serializinghtml 1.1.5                  /usr/local/lib/python3.7/dist-packages pip\n",
            "sphinxcontrib-websupport      1.2.4                  /usr/local/lib/python3.7/dist-packages pip\n",
            "SQLAlchemy                    1.4.44                 /usr/local/lib/python3.7/dist-packages pip\n",
            "sqlparse                      0.4.3                  /usr/local/lib/python3.7/dist-packages pip\n",
            "srsly                         2.4.5                  /usr/local/lib/python3.7/dist-packages pip\n",
            "statsmodels                   0.12.2                 /usr/local/lib/python3.7/dist-packages pip\n",
            "sympy                         1.7.1                  /usr/local/lib/python3.7/dist-packages pip\n",
            "tables                        3.7.0                  /usr/local/lib/python3.7/dist-packages pip\n",
            "tabulate                      0.8.10                 /usr/local/lib/python3.7/dist-packages pip\n",
            "tblib                         1.7.0                  /usr/local/lib/python3.7/dist-packages pip\n",
            "tenacity                      8.1.0                  /usr/local/lib/python3.7/dist-packages pip\n",
            "tensorboard                   2.9.1                  /usr/local/lib/python3.7/dist-packages pip\n",
            "tensorboard-data-server       0.6.1                  /usr/local/lib/python3.7/dist-packages pip\n",
            "tensorboard-plugin-wit        1.8.1                  /usr/local/lib/python3.7/dist-packages pip\n",
            "tensorflow                    2.9.2                  /usr/local/lib/python3.7/dist-packages pip\n",
            "tensorflow-datasets           4.6.0                  /usr/local/lib/python3.7/dist-packages pip\n",
            "tensorflow-estimator          2.9.0                  /usr/local/lib/python3.7/dist-packages pip\n",
            "tensorflow-gcs-config         2.9.1                  /usr/local/lib/python3.7/dist-packages pip\n",
            "tensorflow-hub                0.12.0                 /usr/local/lib/python3.7/dist-packages pip\n",
            "tensorflow-io-gcs-filesystem  0.27.0                 /usr/local/lib/python3.7/dist-packages pip\n",
            "tensorflow-metadata           1.11.0                 /usr/local/lib/python3.7/dist-packages pip\n",
            "tensorflow-probability        0.17.0                 /usr/local/lib/python3.7/dist-packages pip\n",
            "termcolor                     2.1.0                  /usr/local/lib/python3.7/dist-packages pip\n",
            "terminado                     0.13.3                 /usr/local/lib/python3.7/dist-packages pip\n",
            "testpath                      0.6.0                  /usr/local/lib/python3.7/dist-packages pip\n",
            "text-unidecode                1.3                    /usr/local/lib/python3.7/dist-packages pip\n",
            "textblob                      0.15.3                 /usr/local/lib/python3.7/dist-packages pip\n",
            "thinc                         8.1.5                  /usr/local/lib/python3.7/dist-packages pip\n",
            "threadpoolctl                 3.1.0                  /usr/local/lib/python3.7/dist-packages pip\n",
            "tifffile                      2021.11.2              /usr/local/lib/python3.7/dist-packages pip\n",
            "toml                          0.10.2                 /usr/local/lib/python3.7/dist-packages pip\n",
            "tomli                         2.0.1                  /usr/local/lib/python3.7/dist-packages pip\n",
            "toolz                         0.12.0                 /usr/local/lib/python3.7/dist-packages pip\n",
            "torch                         1.12.1+cu113           /usr/local/lib/python3.7/dist-packages pip\n",
            "torchaudio                    0.12.1+cu113           /usr/local/lib/python3.7/dist-packages pip\n",
            "torchsummary                  1.5.1                  /usr/local/lib/python3.7/dist-packages pip\n",
            "torchtext                     0.13.1                 /usr/local/lib/python3.7/dist-packages pip\n",
            "torchvision                   0.13.1+cu113           /usr/local/lib/python3.7/dist-packages pip\n",
            "tornado                       6.0.4                  /usr/local/lib/python3.7/dist-packages pip\n",
            "tqdm                          4.64.1                 /usr/local/lib/python3.7/dist-packages pip\n",
            "traitlets                     5.1.1                  /usr/local/lib/python3.7/dist-packages pip\n",
            "tweepy                        3.10.0                 /usr/local/lib/python3.7/dist-packages pip\n",
            "typeguard                     2.7.1                  /usr/local/lib/python3.7/dist-packages pip\n",
            "typer                         0.7.0                  /usr/local/lib/python3.7/dist-packages pip\n",
            "typing-extensions             4.1.1                  /usr/local/lib/python3.7/dist-packages pip\n",
            "tzlocal                       1.5.1                  /usr/local/lib/python3.7/dist-packages pip\n",
            "uritemplate                   3.0.1                  /usr/local/lib/python3.7/dist-packages pip\n",
            "urllib3                       1.24.3                 /usr/local/lib/python3.7/dist-packages pip\n",
            "vega-datasets                 0.9.0                  /usr/local/lib/python3.7/dist-packages pip\n",
            "wasabi                        0.10.1                 /usr/local/lib/python3.7/dist-packages pip\n",
            "wcwidth                       0.2.5                  /usr/local/lib/python3.7/dist-packages pip\n",
            "webargs                       8.2.0                  /usr/local/lib/python3.7/dist-packages pip\n",
            "webencodings                  0.5.1                  /usr/local/lib/python3.7/dist-packages pip\n",
            "Werkzeug                      1.0.1                  /usr/local/lib/python3.7/dist-packages pip\n",
            "wheel                         0.38.4                 /usr/local/lib/python3.7/dist-packages pip\n",
            "widgetsnbextension            3.6.1                  /usr/local/lib/python3.7/dist-packages pip\n",
            "wordcloud                     1.8.2.2                /usr/local/lib/python3.7/dist-packages pip\n",
            "wrapt                         1.14.1                 /usr/local/lib/python3.7/dist-packages pip\n",
            "xarray                        0.20.2                 /usr/local/lib/python3.7/dist-packages pip\n",
            "xarray-einstats               0.2.2                  /usr/local/lib/python3.7/dist-packages pip\n",
            "xgboost                       0.90                   /usr/local/lib/python3.7/dist-packages pip\n",
            "xkit                          0.0.0                  /usr/lib/python3/dist-packages\n",
            "xlrd                          1.1.0                  /usr/local/lib/python3.7/dist-packages pip\n",
            "xlwt                          1.3.0                  /usr/local/lib/python3.7/dist-packages pip\n",
            "yarl                          1.8.1                  /usr/local/lib/python3.7/dist-packages pip\n",
            "yellowbrick                   1.5                    /usr/local/lib/python3.7/dist-packages pip\n",
            "zict                          2.2.0                  /usr/local/lib/python3.7/dist-packages pip\n",
            "zipp                          3.10.0                 /usr/local/lib/python3.7/dist-packages pip\n"
          ]
        }
      ],
      "source": [
        "!pip list  -v           # Provides list of installed packages ! is showing it's shell command"
      ]
    },
    {
      "cell_type": "code",
      "execution_count": null,
      "metadata": {
        "colab": {
          "base_uri": "https://localhost:8080/"
        },
        "id": "Mvss1uyvo9dV",
        "outputId": "077e782e-0070-42d0-a139-ebdc6a681c0e"
      },
      "outputs": [
        {
          "output_type": "stream",
          "name": "stdout",
          "text": [
            "Looking in indexes: https://pypi.org/simple, https://us-python.pkg.dev/colab-wheels/public/simple/\n",
            "Collecting logic\n",
            "  Downloading logic-0.2.3.tar.gz (20 kB)\n",
            "Requirement already satisfied: toolz in /usr/local/lib/python3.7/dist-packages (from logic) (0.12.0)\n",
            "Requirement already satisfied: multipledispatch in /usr/local/lib/python3.7/dist-packages (from logic) (0.6.0)\n",
            "Collecting unification\n",
            "  Downloading unification-0.2.2-py2.py3-none-any.whl (10 kB)\n",
            "Requirement already satisfied: six in /usr/local/lib/python3.7/dist-packages (from multipledispatch->logic) (1.15.0)\n",
            "Building wheels for collected packages: logic\n",
            "  Building wheel for logic (setup.py) ... \u001b[?25l\u001b[?25hdone\n",
            "  Created wheel for logic: filename=logic-0.2.3-py3-none-any.whl size=13726 sha256=e18146cd6b35d7fbe8975b211a40673829de2d9e451da486b9e8994292f07d5a\n",
            "  Stored in directory: /root/.cache/pip/wheels/37/3f/25/d8224026dd727271dffcf8abe834f988a0e04395808332ff5a\n",
            "Successfully built logic\n",
            "Installing collected packages: unification, logic\n",
            "Successfully installed logic-0.2.3 unification-0.2.2\n"
          ]
        }
      ],
      "source": [
        "pip install logic"
      ]
    },
    {
      "cell_type": "code",
      "execution_count": null,
      "metadata": {
        "colab": {
          "base_uri": "https://localhost:8080/"
        },
        "id": "ZmA5xfjnk3oP",
        "outputId": "44939b8c-65e5-4490-c7be-53b6e3dfc492"
      },
      "outputs": [
        {
          "output_type": "stream",
          "name": "stdout",
          "text": [
            "Looking in indexes: https://pypi.org/simple, https://us-python.pkg.dev/colab-wheels/public/simple/\n",
            "Requirement already satisfied: sympy in /usr/local/lib/python3.7/dist-packages (1.7.1)\n",
            "Requirement already satisfied: mpmath>=0.19 in /usr/local/lib/python3.7/dist-packages (from sympy) (1.2.1)\n"
          ]
        }
      ],
      "source": [
        "pip install sympy"
      ]
    },
    {
      "cell_type": "code",
      "execution_count": null,
      "metadata": {
        "colab": {
          "base_uri": "https://localhost:8080/"
        },
        "id": "DI9SEVJdp6xP",
        "outputId": "591bb42c-5c5b-4560-b077-3f6dd1fbcb03"
      },
      "outputs": [
        {
          "output_type": "stream",
          "name": "stdout",
          "text": [
            "Looking in indexes: https://pypi.org/simple, https://us-python.pkg.dev/colab-wheels/public/simple/\n",
            "Collecting kanren\n",
            "  Downloading kanren-0.2.3.tar.gz (23 kB)\n",
            "Requirement already satisfied: toolz in /usr/local/lib/python3.7/dist-packages (from kanren) (0.12.0)\n",
            "Requirement already satisfied: multipledispatch in /usr/local/lib/python3.7/dist-packages (from kanren) (0.6.0)\n",
            "Requirement already satisfied: unification in /usr/local/lib/python3.7/dist-packages (from kanren) (0.2.2)\n",
            "Requirement already satisfied: six in /usr/local/lib/python3.7/dist-packages (from multipledispatch->kanren) (1.15.0)\n",
            "Building wheels for collected packages: kanren\n",
            "  Building wheel for kanren (setup.py) ... \u001b[?25l\u001b[?25hdone\n",
            "  Created wheel for kanren: filename=kanren-0.2.3-py3-none-any.whl size=15871 sha256=3820ab5233e440e0ebf4a173fe05bed52673b030ff69f70a513cb596781104aa\n",
            "  Stored in directory: /root/.cache/pip/wheels/26/cb/32/093b860ec60752641d76d706af25a175597cf56e152282cbbe\n",
            "Successfully built kanren\n",
            "Installing collected packages: kanren\n",
            "Successfully installed kanren-0.2.3\n"
          ]
        }
      ],
      "source": [
        "pip install kanren"
      ]
    },
    {
      "cell_type": "code",
      "execution_count": null,
      "metadata": {
        "id": "bwgEjXO2611c"
      },
      "outputs": [],
      "source": [
        "import json\n",
        "from logpy import Relation, facts, run, conde, var, eq,membero"
      ]
    },
    {
      "cell_type": "code",
      "source": [
        "def wife(x,y):\n",
        "  temp=var()\n",
        "  return conde((father(y,temp),mother(x,temp)))"
      ],
      "metadata": {
        "id": "6nLwEGz4-Zve"
      },
      "execution_count": null,
      "outputs": []
    },
    {
      "cell_type": "code",
      "source": [
        "def grandMother(x,y):\n",
        "  temp=var()\n",
        "  return conde((father(temp,y),mother(x,temp)))"
      ],
      "metadata": {
        "id": "WbzUSEpcYxqa"
      },
      "execution_count": null,
      "outputs": []
    },
    {
      "cell_type": "code",
      "source": [
        "def nephew(x,y):\n",
        "  temp=var()\n",
        "  return conde((father(temp,x),sibling(y,temp)))"
      ],
      "metadata": {
        "id": "MdzAjRcqb6TH"
      },
      "execution_count": null,
      "outputs": []
    },
    {
      "cell_type": "code",
      "execution_count": null,
      "metadata": {
        "id": "9J-mX4YE66C0"
      },
      "outputs": [],
      "source": [
        "# Check if 'x' is the parent of 'y'\n",
        "def parent(x, y):\n",
        "  return conde([father(x, y)], [mother(x, y)])"
      ]
    },
    {
      "cell_type": "code",
      "execution_count": null,
      "metadata": {
        "id": "EvmhFBmK69ei"
      },
      "outputs": [],
      "source": [
        "# Check if 'x' is the grandparent of 'y'\n",
        "def grandparent(x, y):\n",
        "  temp = var()\n",
        "  return conde((parent(x, temp), parent(temp, y)))"
      ]
    },
    {
      "cell_type": "code",
      "execution_count": null,
      "metadata": {
        "id": "g85u6jOx7CR0"
      },
      "outputs": [],
      "source": [
        "# Check for sibling relationship between 'a' and 'b'\n",
        "def sibling(x, y):\n",
        "  temp = var()\n",
        "  return conde((parent(temp, x), parent(temp, y)))"
      ]
    },
    {
      "cell_type": "code",
      "execution_count": null,
      "metadata": {
        "id": "T7zZ9aCz7HTY"
      },
      "outputs": [],
      "source": [
        "# Check if x is y's uncle\n",
        "def uncle(x, y):\n",
        "  temp = var()\n",
        "  return conde((father(temp, x), grandparent(temp, y)))"
      ]
    },
    {
      "cell_type": "code",
      "execution_count": null,
      "metadata": {
        "id": "sjrmRVt37KFG"
      },
      "outputs": [],
      "source": [
        "if __name__=='__main__':\n",
        "  father = Relation()\n",
        "  mother = Relation()\n",
        "  gender=Relation()"
      ]
    },
    {
      "cell_type": "code",
      "execution_count": null,
      "metadata": {
        "id": "OwpZrNNm7WZe"
      },
      "outputs": [],
      "source": [
        "with open ('Shivaji_Maharaj_familyTree.json') as f:\n",
        "   d = json.loads(f.read())"
      ]
    },
    {
      "cell_type": "code",
      "execution_count": null,
      "metadata": {
        "id": "oCQDvAV17ahm"
      },
      "outputs": [],
      "source": [
        "for item in d['father']:\n",
        "  facts(father, (list(item.keys())[0], list(item.values())[0]))\n",
        "for item in d['mother']:\n",
        "  facts(mother, (list(item.keys())[0], list(item.values())[0]))\n",
        "for item in d['Gender']:\n",
        "  facts(gender, (list(item.keys())[0], list(item.values())[0]))"
      ]
    },
    {
      "cell_type": "code",
      "execution_count": null,
      "metadata": {
        "id": "W1vMppzc7fI1"
      },
      "outputs": [],
      "source": [
        "x = var()\n"
      ]
    },
    {
      "cell_type": "code",
      "source": [
        "#nephew\n",
        "name=\"Dipabai\"\n",
        "output = run(0, x, nephew(x, name))\n",
        "for item in output:\n",
        "  print(item)"
      ],
      "metadata": {
        "colab": {
          "base_uri": "https://localhost:8080/"
        },
        "id": "oLlKHfr7dcaJ",
        "outputId": "552322e4-d47d-4b3b-8f15-f4408fe4109e"
      },
      "execution_count": null,
      "outputs": [
        {
          "output_type": "stream",
          "name": "stdout",
          "text": [
            "Shahu Maharaj\n",
            "Sambhaji Maharaj(Second)\n",
            "Shivaji Maharaj(Second)\n"
          ]
        }
      ]
    },
    {
      "cell_type": "code",
      "source": [
        "#grandmother\n",
        "name=\"Sambhaji Maharaj(Second)\"\n",
        "output = run(0, x, grandMother(x, name))\n",
        "for item in output:\n",
        "  print(item)"
      ],
      "metadata": {
        "colab": {
          "base_uri": "https://localhost:8080/"
        },
        "id": "iwm_MIerZuQF",
        "outputId": "9a4f159b-0a14-4768-b221-c9228b766456"
      },
      "execution_count": null,
      "outputs": [
        {
          "output_type": "stream",
          "name": "stdout",
          "text": [
            "Soyrabai\n"
          ]
        }
      ]
    },
    {
      "cell_type": "code",
      "source": [
        "#wife of Rajaram Maharaj\n",
        "name='Rajaram Maharaj'\n",
        "temp=var()\n",
        "output=run(0,x,father(name,temp),mother(x,temp))\n",
        "print(\"List of \"+ name + \"'s wife:\")\n",
        "for item in output:\n",
        "  print(item)"
      ],
      "metadata": {
        "colab": {
          "base_uri": "https://localhost:8080/"
        },
        "id": "_yOihotVCZhV",
        "outputId": "eebf33b7-b335-4b48-ec7a-ec3abcf9f4be"
      },
      "execution_count": null,
      "outputs": [
        {
          "output_type": "stream",
          "name": "stdout",
          "text": [
            "List of Rajaram Maharaj's wife:\n",
            "Rajasbai\n",
            "Tarabai\n"
          ]
        }
      ]
    },
    {
      "cell_type": "code",
      "source": [
        "name='Rajaram Maharaj'\n",
        "output=run(0,x,wife(x,name))\n",
        "print(\"List of Rajaram Maharaj's wife:\")\n",
        "for item in output:\n",
        "  print(item)"
      ],
      "metadata": {
        "colab": {
          "base_uri": "https://localhost:8080/"
        },
        "id": "r4rO4cwoJFWt",
        "outputId": "f88f29a4-90aa-44ba-b231-4de309958d21"
      },
      "execution_count": null,
      "outputs": [
        {
          "output_type": "stream",
          "name": "stdout",
          "text": [
            "List of Rajaram Maharaj's wife:\n",
            "Rajasbai\n",
            "Tarabai\n"
          ]
        }
      ]
    },
    {
      "cell_type": "code",
      "source": [
        "#co-sister-in-law\n",
        "name='Yesubai'\n",
        "temp=var()\n",
        "temp1=var()\n",
        "y=var()\n",
        "output=run(0,x,mother(name,temp),father(y,temp),father(temp1,y),father(temp1,x),gender(x,\"female\"))\n",
        "# output = [x for x in output if x != 'Sambhaji Maharaj']\n",
        "\n",
        "output = [x for x in output if x != y]\n",
        "print(\"List of \"+ name + \"'s co-sisters-in-law:\")\n",
        "for item in output:\n",
        "  print(item)"
      ],
      "metadata": {
        "colab": {
          "base_uri": "https://localhost:8080/"
        },
        "id": "GckF0izFDNj9",
        "outputId": "f2df0e5b-6142-4a88-da46-0a358b95ca2f"
      },
      "execution_count": null,
      "outputs": [
        {
          "output_type": "stream",
          "name": "stdout",
          "text": [
            "List of Yesubai's co-sisters-in-law:\n",
            "Ambikabai\n",
            "Kamalabai\n",
            "Ranubai\n",
            "Dipabai\n",
            "Sakhubai\n",
            "RajKunvarbai\n"
          ]
        }
      ]
    },
    {
      "cell_type": "code",
      "source": [
        "#daughter in law of shivaji maharaj\n",
        "name='Shivaji Maharaj'\n",
        "y=var()\n",
        "temp=var()\n",
        "output=run(0,x,father(name,y),father(y,temp),mother(x,temp))\n",
        "print(\"List of \"+ name + \"'s daughters-in-law:\")\n",
        "for item in output:\n",
        "  print(item)"
      ],
      "metadata": {
        "colab": {
          "base_uri": "https://localhost:8080/"
        },
        "id": "h6ojKj7HHzWC",
        "outputId": "952c0dad-9f6d-4349-efbb-7ccc5b5acb94"
      },
      "execution_count": null,
      "outputs": [
        {
          "output_type": "stream",
          "name": "stdout",
          "text": [
            "List of Shivaji Maharaj's daughters-in-law:\n",
            "Yesubai\n",
            "Rajasbai\n",
            "Tarabai\n"
          ]
        }
      ]
    },
    {
      "cell_type": "code",
      "execution_count": null,
      "metadata": {
        "colab": {
          "base_uri": "https://localhost:8080/"
        },
        "id": "71nRho5E7oQB",
        "outputId": "e01ee91f-0f92-460c-a2c9-562c6728bfda"
      },
      "outputs": [
        {
          "output_type": "stream",
          "name": "stdout",
          "text": [
            "\n",
            "List of Rajaram Maharaj's children:\n",
            "Sambhaji Maharaj(Second)\n",
            "Shivaji Maharaj(Second)\n"
          ]
        }
      ],
      "source": [
        "# Rajaram Maharaj's children\n",
        "name = 'Rajaram Maharaj'\n",
        "output = run(0, x, father(name, x))\n",
        "print(\"\\nList of \" + name + \"'s children:\")\n",
        "for item in output:\n",
        "  print(item)"
      ]
    },
    {
      "cell_type": "code",
      "execution_count": null,
      "metadata": {
        "colab": {
          "base_uri": "https://localhost:8080/"
        },
        "id": "KDOdPWYgD_dt",
        "outputId": "8a81b393-9afa-4d97-ecd0-4bf225d386bb"
      },
      "outputs": [
        {
          "output_type": "stream",
          "name": "stdout",
          "text": [
            "\n",
            "Sambhaji Maharaj's mother:\n",
            "Saibai\n"
          ]
        }
      ],
      "source": [
        "#Who is Sambhaji Maharaj's mother?\n",
        "name = 'Sambhaji Maharaj'\n",
        "output = run(0, x, mother(x, name))[0]\n",
        "print(\"\\n\" + name + \"'s mother:\\n\" + output)"
      ]
    },
    {
      "cell_type": "code",
      "execution_count": null,
      "metadata": {
        "colab": {
          "base_uri": "https://localhost:8080/"
        },
        "id": "HOpieqVEESZW",
        "outputId": "c2925a39-9322-4baa-cb7f-237e2ba4d878"
      },
      "outputs": [
        {
          "output_type": "stream",
          "name": "stdout",
          "text": [
            "\n",
            "List of Shivaji Maharaj(Second)'s parents:\n",
            "Rajaram Maharaj\n",
            "Tarabai\n"
          ]
        }
      ],
      "source": [
        "# Shivaji Maharaj(Second) parents name \n",
        "name = 'Shivaji Maharaj(Second)'\n",
        "output = run(0, x, parent(x, name))\n",
        "print(\"\\nList of \" + name + \"'s parents:\")\n",
        "for item in output:\n",
        "  print(item)"
      ]
    },
    {
      "cell_type": "code",
      "execution_count": null,
      "metadata": {
        "colab": {
          "base_uri": "https://localhost:8080/"
        },
        "id": "OXAslJb8Kkfs",
        "outputId": "54977b00-927a-4e6f-9eb8-f87fe082777b"
      },
      "outputs": [
        {
          "output_type": "stream",
          "name": "stdout",
          "text": [
            "\n",
            "List of Shahu Maharaj's grandparents:\n",
            "Shivaji Maharaj\n",
            "Saibai\n"
          ]
        }
      ],
      "source": [
        "# Shahu Maharaj's grandparents\n",
        "name = 'Shahu Maharaj'\n",
        "output = run(0, x, grandparent(x, name))\n",
        "print(\"\\nList of \" + name + \"'s grandparents:\")\n",
        "for item in output:\n",
        "  print(item)"
      ]
    },
    {
      "cell_type": "code",
      "execution_count": null,
      "metadata": {
        "colab": {
          "base_uri": "https://localhost:8080/"
        },
        "id": "gJEtMcdjK4oS",
        "outputId": "d10786fa-1cde-45cb-afb4-92daaf7a60a9"
      },
      "outputs": [
        {
          "output_type": "stream",
          "name": "stdout",
          "text": [
            "\n",
            "List of Sambhaji Maharaj's siblings:\n",
            "Ambikabai\n",
            "Kamalabai\n",
            "Ranubai\n",
            "Dipabai\n",
            "Sakhubai\n",
            "RajKunvarbai\n",
            "Rajaram Maharaj\n"
          ]
        }
      ],
      "source": [
        "# Sambhaji Maharaj's siblings\n",
        "name = 'Sambhaji Maharaj'\n",
        "output = run(0, x, sibling(x, name))\n",
        "siblings = [x for x in output if x != name]\n",
        "print(\"\\nList of \" + name + \"'s siblings:\")\n",
        "for item in siblings:\n",
        "  print(item)"
      ]
    },
    {
      "cell_type": "code",
      "execution_count": null,
      "metadata": {
        "colab": {
          "base_uri": "https://localhost:8080/"
        },
        "id": "CAQ_GlhiLL8E",
        "outputId": "0feaa65f-8539-4cec-a735-b922f73bcd44"
      },
      "outputs": [
        {
          "output_type": "stream",
          "name": "stdout",
          "text": [
            "\n",
            "List of Shahu Maharaj's uncles:\n",
            "Rajaram Maharaj\n"
          ]
        }
      ],
      "source": [
        "# Shahu Maharaj's uncle\n",
        "name = 'Shahu Maharaj'\n",
        "name_father = run(0, x, father(x, name))[0]\n",
        "output = run(0, x, uncle(x, name),gender(x,\"male\"))\n",
        "output = [x for x in output if x != name_father]\n",
        "print(\"\\nList of \" + name + \"'s uncles:\")\n",
        "for item in output:\n",
        "  print(item)"
      ]
    },
    {
      "cell_type": "code",
      "execution_count": null,
      "metadata": {
        "colab": {
          "base_uri": "https://localhost:8080/"
        },
        "id": "x2QlXqnELa4a",
        "outputId": "89219262-e43f-45d5-e9aa-4a4f7898ad39"
      },
      "outputs": [
        {
          "output_type": "stream",
          "name": "stdout",
          "text": [
            "\n",
            "List of all spouses:\n",
            "Husband: Shivaji Maharaj <==> Wife: Saibai\n",
            "Husband: Sambhaji Maharaj <==> Wife: Yesubai\n",
            "Husband: Shivaji Maharaj <==> Wife: Sakvarbai\n",
            "Husband: Shivaji Maharaj <==> Wife: Soyrabai\n",
            "Husband: Shivaji Maharaj <==> Wife: Sagunabai\n",
            "Husband: Rajaram Maharaj <==> Wife: Rajasbai\n",
            "Husband: Rajaram Maharaj <==> Wife: Tarabai\n"
          ]
        }
      ],
      "source": [
        "# All spouses\n",
        "a, b, c = var(), var(), var()\n",
        "output = run(0, (a, b), (father, a, c), (mother, b, c))\n",
        "print(\"\\nList of all spouses:\")\n",
        "for item in output:\n",
        "  print('Husband:', item[0], '<==> Wife:', item[1])"
      ]
    },
    {
      "cell_type": "code",
      "source": [],
      "metadata": {
        "id": "CdKTE8s-zwqS"
      },
      "execution_count": null,
      "outputs": []
    }
  ],
  "metadata": {
    "colab": {
      "provenance": [],
      "include_colab_link": true
    },
    "kernelspec": {
      "display_name": "Python 3",
      "name": "python3"
    },
    "language_info": {
      "name": "python"
    }
  },
  "nbformat": 4,
  "nbformat_minor": 0
}